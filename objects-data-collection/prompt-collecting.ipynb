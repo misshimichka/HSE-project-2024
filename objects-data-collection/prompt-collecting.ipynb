{
 "cells": [
  {
   "cell_type": "code",
   "execution_count": 40,
   "metadata": {},
   "outputs": [],
   "source": [
    "import pandas as pd\n",
    "import requests\n",
    "import re\n",
    "from bs4 import BeautifulSoup as Soup\n",
    "import os"
   ]
  },
  {
   "cell_type": "code",
   "execution_count": 41,
   "metadata": {},
   "outputs": [],
   "source": [
    "MAX_LEN = 150\n",
    "\n",
    "#prompt format: \"A sticker of {...}\" - без точки на конце.\n",
    "\n",
    "\n",
    "def preprocess(s):\n",
    "    s = s.replace(r'\\n', '').replace('\\n', '').strip().capitalize()\n",
    "    return s\n",
    "\n",
    "def parse_chatgpt_chat(content): #тут могут быть ошибки.\n",
    "    body = Soup(content, 'lxml').find('body')\n",
    "    string = body.find_all('script')[1].text\n",
    "    prompts = []\n",
    "    parts_idx = [m.start() for m in re.finditer(\"parts\", string)]\n",
    "    for i in range(len(parts_idx) - 1):\n",
    "        text = string[parts_idx[i]: parts_idx[i + 1]][7:]\n",
    "        text = text[:text.find('},')]\n",
    "        lst = list(re.findall(r\"A sticker of .*?\\\\n\", text, re.DOTALL))\n",
    "        last = text[text.rfind('A sticker of'):].strip().capitalize()\n",
    "        if last.count(r'\\n') > 0:\n",
    "            lst.append(last[:last.find(r'\\n')])\n",
    "        else:\n",
    "            lst.append(last.replace('\"]', ''))\n",
    "        prompts.extend([i for i in [preprocess(q) for q in lst] if i.endswith('.') and i.count('.') == 1])\n",
    "\n",
    "    return list(set(prompts))"
   ]
  },
  {
   "cell_type": "code",
   "execution_count": 42,
   "metadata": {},
   "outputs": [],
   "source": [
    "def load_urls(filename):\n",
    "    with open(filename, mode=\"r\", encoding=\"UTF-8\") as urls_file:\n",
    "        result_urls = []\n",
    "        for line in urls_file.readlines():\n",
    "            result_urls.append(line.strip())\n",
    "            \n",
    "    print(result_urls)\n",
    "    return result_urls"
   ]
  },
  {
   "cell_type": "code",
   "execution_count": 43,
   "metadata": {},
   "outputs": [],
   "source": [
    "chat_directory_path = \"html-chats/\"\n",
    "\n",
    "def load_all_html_chats():\n",
    "    result_html_chats = []\n",
    "    for filename in os.listdir(chat_directory_path):\n",
    "        file_path = os.path.join(chat_directory_path, filename)\n",
    "        result_html_chats.append(file_path)\n",
    "    return result_html_chats\n"
   ]
  },
  {
   "cell_type": "code",
   "execution_count": 70,
   "metadata": {
    "scrolled": false
   },
   "outputs": [
    {
     "name": "stdout",
     "output_type": "stream",
     "text": [
      "Parsing prompts from:  html-chats/chat-5.html\n"
     ]
    }
   ],
   "source": [
    "# html_chats = load_all_html_chats()\n",
    "html_chats = [\"html-chats/chat-5.html\"]\n",
    "\n",
    "generated_prompts = []\n",
    "\n",
    "for filename in html_chats:\n",
    "    print(\"Parsing prompts from: \", filename)\n",
    "    with open(filename, mode=\"r\", encoding=\"UTF-8\") as html_chat:\n",
    "        generated_prompts.extend(parse_chatgpt_chat(html_chat))"
   ]
  },
  {
   "cell_type": "code",
   "execution_count": 71,
   "metadata": {},
   "outputs": [
    {
     "data": {
      "text/plain": [
       "1146"
      ]
     },
     "execution_count": 71,
     "metadata": {},
     "output_type": "execute_result"
    }
   ],
   "source": [
    "len(generated_prompts)"
   ]
  },
  {
   "cell_type": "code",
   "execution_count": 45,
   "metadata": {},
   "outputs": [],
   "source": [
    "def dump_prompts(generated_prompts, batch_id):\n",
    "    \n",
    "    def get_prompts_batch_name(batch_id):\n",
    "        return \"collected-prompts/prompts-batch-\" + str(batch_id) + \".txt\"\n",
    "    \n",
    "    with open(get_prompts_batch_name(batch_id), mode=\"w\", encoding=\"UTF-8\") as prompts_batch_file:\n",
    "        for prompt in generated_prompts:\n",
    "            prompts_batch_file.write(prompt + \"\\n\")"
   ]
  },
  {
   "cell_type": "code",
   "execution_count": 72,
   "metadata": {},
   "outputs": [],
   "source": [
    "batch_id = 4\n",
    "\n",
    "dump_prompts(generated_prompts, batch_id)"
   ]
  }
 ],
 "metadata": {
  "kernelspec": {
   "display_name": "Python 3 (ipykernel)",
   "language": "python",
   "name": "python3"
  },
  "language_info": {
   "codemirror_mode": {
    "name": "ipython",
    "version": 3
   },
   "file_extension": ".py",
   "mimetype": "text/x-python",
   "name": "python",
   "nbconvert_exporter": "python",
   "pygments_lexer": "ipython3",
   "version": "3.11.3"
  }
 },
 "nbformat": 4,
 "nbformat_minor": 1
}
